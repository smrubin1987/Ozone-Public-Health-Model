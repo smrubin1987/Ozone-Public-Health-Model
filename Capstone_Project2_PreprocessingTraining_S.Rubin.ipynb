{
 "cells": [
  {
   "cell_type": "code",
   "execution_count": null,
   "metadata": {},
   "outputs": [],
   "source": [
    "#Create  dummy features: get.dummies()\n",
    "#Scale Standardization: scaler = preprocessing.StandardScaler(),\n",
    "    #scaled_df= scaler.fit_transform(df), df_scaled=pd.DataFrame(scaled_df, columns=names)\n",
    "#Split Data: traing and test subsets: sklearn...train_test_split()\n",
    "\n",
    "#categorical data?   County ~ category\n",
    "#Data values in range: could partition ppm into different ranges/bins"
   ]
  },
  {
   "cell_type": "code",
   "execution_count": 1,
   "metadata": {},
   "outputs": [],
   "source": [
    "import pandas as pd"
   ]
  },
  {
   "cell_type": "code",
   "execution_count": 15,
   "metadata": {},
   "outputs": [
    {
     "data": {
      "text/html": [
       "<div>\n",
       "<style scoped>\n",
       "    .dataframe tbody tr th:only-of-type {\n",
       "        vertical-align: middle;\n",
       "    }\n",
       "\n",
       "    .dataframe tbody tr th {\n",
       "        vertical-align: top;\n",
       "    }\n",
       "\n",
       "    .dataframe thead th {\n",
       "        text-align: right;\n",
       "    }\n",
       "</style>\n",
       "<table border=\"1\" class=\"dataframe\">\n",
       "  <thead>\n",
       "    <tr style=\"text-align: right;\">\n",
       "      <th></th>\n",
       "      <th>date_local</th>\n",
       "      <th>Ozone Mean (ppm)</th>\n",
       "      <th>County</th>\n",
       "      <th>Ozone Max (ppm)</th>\n",
       "    </tr>\n",
       "  </thead>\n",
       "  <tbody>\n",
       "    <tr>\n",
       "      <th>0</th>\n",
       "      <td>2019-01-01</td>\n",
       "      <td>0.026388</td>\n",
       "      <td>Maricopa</td>\n",
       "      <td>0.039045</td>\n",
       "    </tr>\n",
       "    <tr>\n",
       "      <th>1</th>\n",
       "      <td>2019-01-02</td>\n",
       "      <td>0.023136</td>\n",
       "      <td>Maricopa</td>\n",
       "      <td>0.033955</td>\n",
       "    </tr>\n",
       "  </tbody>\n",
       "</table>\n",
       "</div>"
      ],
      "text/plain": [
       "  date_local  Ozone Mean (ppm)    County  Ozone Max (ppm)\n",
       "0 2019-01-01          0.026388  Maricopa         0.039045\n",
       "1 2019-01-02          0.023136  Maricopa         0.033955"
      ]
     },
     "execution_count": 15,
     "metadata": {},
     "output_type": "execute_result"
    }
   ],
   "source": [
    "Ozone_df = pd.read_csv(\"Ozone_df_final.csv\")\n",
    "Ozone_df['date_local'] = pd.to_datetime(Ozone_df['date_local'])\n",
    "Ozone_df.dtypes\n",
    "Ozone_df.head(2)"
   ]
  },
  {
   "cell_type": "code",
   "execution_count": 17,
   "metadata": {},
   "outputs": [
    {
     "data": {
      "text/plain": [
       "date_local          0\n",
       "Ozone Mean (ppm)    0\n",
       "County              0\n",
       "Ozone Max (ppm)     0\n",
       "dtype: int64"
      ]
     },
     "execution_count": 17,
     "metadata": {},
     "output_type": "execute_result"
    }
   ],
   "source": [
    "Ozone_df.isnull().sum()  #no null values in dataframe"
   ]
  },
  {
   "cell_type": "code",
   "execution_count": 58,
   "metadata": {},
   "outputs": [
    {
     "data": {
      "text/html": [
       "<div>\n",
       "<style scoped>\n",
       "    .dataframe tbody tr th:only-of-type {\n",
       "        vertical-align: middle;\n",
       "    }\n",
       "\n",
       "    .dataframe tbody tr th {\n",
       "        vertical-align: top;\n",
       "    }\n",
       "\n",
       "    .dataframe thead th {\n",
       "        text-align: right;\n",
       "    }\n",
       "</style>\n",
       "<table border=\"1\" class=\"dataframe\">\n",
       "  <thead>\n",
       "    <tr style=\"text-align: right;\">\n",
       "      <th></th>\n",
       "      <th>Cook</th>\n",
       "      <th>Dallas</th>\n",
       "      <th>Harris</th>\n",
       "      <th>LosAngeles</th>\n",
       "      <th>Maricopa</th>\n",
       "      <th>MiamiDade</th>\n",
       "      <th>Orange</th>\n",
       "      <th>Queens</th>\n",
       "      <th>Riverside</th>\n",
       "      <th>SanDiego</th>\n",
       "    </tr>\n",
       "  </thead>\n",
       "  <tbody>\n",
       "    <tr>\n",
       "      <th>0</th>\n",
       "      <td>0</td>\n",
       "      <td>0</td>\n",
       "      <td>0</td>\n",
       "      <td>0</td>\n",
       "      <td>1</td>\n",
       "      <td>0</td>\n",
       "      <td>0</td>\n",
       "      <td>0</td>\n",
       "      <td>0</td>\n",
       "      <td>0</td>\n",
       "    </tr>\n",
       "    <tr>\n",
       "      <th>1</th>\n",
       "      <td>0</td>\n",
       "      <td>0</td>\n",
       "      <td>0</td>\n",
       "      <td>0</td>\n",
       "      <td>1</td>\n",
       "      <td>0</td>\n",
       "      <td>0</td>\n",
       "      <td>0</td>\n",
       "      <td>0</td>\n",
       "      <td>0</td>\n",
       "    </tr>\n",
       "    <tr>\n",
       "      <th>2</th>\n",
       "      <td>0</td>\n",
       "      <td>0</td>\n",
       "      <td>0</td>\n",
       "      <td>0</td>\n",
       "      <td>1</td>\n",
       "      <td>0</td>\n",
       "      <td>0</td>\n",
       "      <td>0</td>\n",
       "      <td>0</td>\n",
       "      <td>0</td>\n",
       "    </tr>\n",
       "    <tr>\n",
       "      <th>3</th>\n",
       "      <td>0</td>\n",
       "      <td>0</td>\n",
       "      <td>0</td>\n",
       "      <td>0</td>\n",
       "      <td>1</td>\n",
       "      <td>0</td>\n",
       "      <td>0</td>\n",
       "      <td>0</td>\n",
       "      <td>0</td>\n",
       "      <td>0</td>\n",
       "    </tr>\n",
       "    <tr>\n",
       "      <th>4</th>\n",
       "      <td>0</td>\n",
       "      <td>0</td>\n",
       "      <td>0</td>\n",
       "      <td>0</td>\n",
       "      <td>1</td>\n",
       "      <td>0</td>\n",
       "      <td>0</td>\n",
       "      <td>0</td>\n",
       "      <td>0</td>\n",
       "      <td>0</td>\n",
       "    </tr>\n",
       "  </tbody>\n",
       "</table>\n",
       "</div>"
      ],
      "text/plain": [
       "   Cook  Dallas  Harris  LosAngeles  Maricopa  MiamiDade  Orange  Queens  \\\n",
       "0     0       0       0           0         1          0       0       0   \n",
       "1     0       0       0           0         1          0       0       0   \n",
       "2     0       0       0           0         1          0       0       0   \n",
       "3     0       0       0           0         1          0       0       0   \n",
       "4     0       0       0           0         1          0       0       0   \n",
       "\n",
       "   Riverside  SanDiego  \n",
       "0          0         0  \n",
       "1          0         0  \n",
       "2          0         0  \n",
       "3          0         0  \n",
       "4          0         0  "
      ]
     },
     "execution_count": 58,
     "metadata": {},
     "output_type": "execute_result"
    }
   ],
   "source": [
    "#create dummy variables\n",
    "dummy_county = pd.get_dummies(Ozone_df['County'], drop_first=False)\n",
    "dummy_county.shape\n",
    "dummy_county.value_counts().sum()\n",
    "dummy_county.head()\n"
   ]
  },
  {
   "cell_type": "code",
   "execution_count": 59,
   "metadata": {},
   "outputs": [
    {
     "data": {
      "text/html": [
       "<div>\n",
       "<style scoped>\n",
       "    .dataframe tbody tr th:only-of-type {\n",
       "        vertical-align: middle;\n",
       "    }\n",
       "\n",
       "    .dataframe tbody tr th {\n",
       "        vertical-align: top;\n",
       "    }\n",
       "\n",
       "    .dataframe thead th {\n",
       "        text-align: right;\n",
       "    }\n",
       "</style>\n",
       "<table border=\"1\" class=\"dataframe\">\n",
       "  <thead>\n",
       "    <tr style=\"text-align: right;\">\n",
       "      <th></th>\n",
       "      <th>date_local</th>\n",
       "      <th>Ozone Mean (ppm)</th>\n",
       "      <th>County</th>\n",
       "      <th>Ozone Max (ppm)</th>\n",
       "      <th>Cook</th>\n",
       "      <th>Dallas</th>\n",
       "      <th>Harris</th>\n",
       "      <th>LosAngeles</th>\n",
       "      <th>Maricopa</th>\n",
       "      <th>MiamiDade</th>\n",
       "      <th>Orange</th>\n",
       "      <th>Queens</th>\n",
       "      <th>Riverside</th>\n",
       "      <th>SanDiego</th>\n",
       "    </tr>\n",
       "  </thead>\n",
       "  <tbody>\n",
       "    <tr>\n",
       "      <th>0</th>\n",
       "      <td>2019-01-01</td>\n",
       "      <td>0.026388</td>\n",
       "      <td>Maricopa</td>\n",
       "      <td>0.039045</td>\n",
       "      <td>0</td>\n",
       "      <td>0</td>\n",
       "      <td>0</td>\n",
       "      <td>0</td>\n",
       "      <td>1</td>\n",
       "      <td>0</td>\n",
       "      <td>0</td>\n",
       "      <td>0</td>\n",
       "      <td>0</td>\n",
       "      <td>0</td>\n",
       "    </tr>\n",
       "    <tr>\n",
       "      <th>1</th>\n",
       "      <td>2019-01-02</td>\n",
       "      <td>0.023136</td>\n",
       "      <td>Maricopa</td>\n",
       "      <td>0.033955</td>\n",
       "      <td>0</td>\n",
       "      <td>0</td>\n",
       "      <td>0</td>\n",
       "      <td>0</td>\n",
       "      <td>1</td>\n",
       "      <td>0</td>\n",
       "      <td>0</td>\n",
       "      <td>0</td>\n",
       "      <td>0</td>\n",
       "      <td>0</td>\n",
       "    </tr>\n",
       "    <tr>\n",
       "      <th>2</th>\n",
       "      <td>2019-01-03</td>\n",
       "      <td>0.018154</td>\n",
       "      <td>Maricopa</td>\n",
       "      <td>0.034952</td>\n",
       "      <td>0</td>\n",
       "      <td>0</td>\n",
       "      <td>0</td>\n",
       "      <td>0</td>\n",
       "      <td>1</td>\n",
       "      <td>0</td>\n",
       "      <td>0</td>\n",
       "      <td>0</td>\n",
       "      <td>0</td>\n",
       "      <td>0</td>\n",
       "    </tr>\n",
       "    <tr>\n",
       "      <th>3</th>\n",
       "      <td>2019-01-04</td>\n",
       "      <td>0.019730</td>\n",
       "      <td>Maricopa</td>\n",
       "      <td>0.037333</td>\n",
       "      <td>0</td>\n",
       "      <td>0</td>\n",
       "      <td>0</td>\n",
       "      <td>0</td>\n",
       "      <td>1</td>\n",
       "      <td>0</td>\n",
       "      <td>0</td>\n",
       "      <td>0</td>\n",
       "      <td>0</td>\n",
       "      <td>0</td>\n",
       "    </tr>\n",
       "    <tr>\n",
       "      <th>4</th>\n",
       "      <td>2019-01-05</td>\n",
       "      <td>0.021591</td>\n",
       "      <td>Maricopa</td>\n",
       "      <td>0.033773</td>\n",
       "      <td>0</td>\n",
       "      <td>0</td>\n",
       "      <td>0</td>\n",
       "      <td>0</td>\n",
       "      <td>1</td>\n",
       "      <td>0</td>\n",
       "      <td>0</td>\n",
       "      <td>0</td>\n",
       "      <td>0</td>\n",
       "      <td>0</td>\n",
       "    </tr>\n",
       "  </tbody>\n",
       "</table>\n",
       "</div>"
      ],
      "text/plain": [
       "  date_local  Ozone Mean (ppm)    County  Ozone Max (ppm)  Cook  Dallas  \\\n",
       "0 2019-01-01          0.026388  Maricopa         0.039045     0       0   \n",
       "1 2019-01-02          0.023136  Maricopa         0.033955     0       0   \n",
       "2 2019-01-03          0.018154  Maricopa         0.034952     0       0   \n",
       "3 2019-01-04          0.019730  Maricopa         0.037333     0       0   \n",
       "4 2019-01-05          0.021591  Maricopa         0.033773     0       0   \n",
       "\n",
       "   Harris  LosAngeles  Maricopa  MiamiDade  Orange  Queens  Riverside  \\\n",
       "0       0           0         1          0       0       0          0   \n",
       "1       0           0         1          0       0       0          0   \n",
       "2       0           0         1          0       0       0          0   \n",
       "3       0           0         1          0       0       0          0   \n",
       "4       0           0         1          0       0       0          0   \n",
       "\n",
       "   SanDiego  \n",
       "0         0  \n",
       "1         0  \n",
       "2         0  \n",
       "3         0  \n",
       "4         0  "
      ]
     },
     "execution_count": 59,
     "metadata": {},
     "output_type": "execute_result"
    }
   ],
   "source": [
    "#concat dummy_county to Ozone_df\n",
    "Ozone_Dummy_df = pd.concat([Ozone_df, dummy_county], axis=1)\n",
    "Ozone_Dummy_df.head()"
   ]
  },
  {
   "cell_type": "code",
   "execution_count": 62,
   "metadata": {},
   "outputs": [],
   "source": [
    "#apply StandardScaler to dataset\n",
    "from sklearn.preprocessing import StandardScaler\n",
    "scaler = StandardScaler()\n",
    "\n",
    "col_names = ['Ozone Mean (ppm)','Ozone Max (ppm)']\n",
    "features = Ozone_Dummy_df[col_names]\n",
    "scaled = scaler.fit(features.values)\n",
    "features = scaled.transform(features.values)\n",
    "scaled_features = pd.DataFrame(features, columns = col_names)"
   ]
  },
  {
   "cell_type": "code",
   "execution_count": 65,
   "metadata": {},
   "outputs": [
    {
     "data": {
      "text/html": [
       "<div>\n",
       "<style scoped>\n",
       "    .dataframe tbody tr th:only-of-type {\n",
       "        vertical-align: middle;\n",
       "    }\n",
       "\n",
       "    .dataframe tbody tr th {\n",
       "        vertical-align: top;\n",
       "    }\n",
       "\n",
       "    .dataframe thead th {\n",
       "        text-align: right;\n",
       "    }\n",
       "</style>\n",
       "<table border=\"1\" class=\"dataframe\">\n",
       "  <thead>\n",
       "    <tr style=\"text-align: right;\">\n",
       "      <th></th>\n",
       "      <th>Ozone Mean (ppm)</th>\n",
       "      <th>Ozone Max (ppm)</th>\n",
       "    </tr>\n",
       "  </thead>\n",
       "  <tbody>\n",
       "    <tr>\n",
       "      <th>0</th>\n",
       "      <td>-0.329758</td>\n",
       "      <td>-0.468495</td>\n",
       "    </tr>\n",
       "    <tr>\n",
       "      <th>1</th>\n",
       "      <td>-0.681090</td>\n",
       "      <td>-0.847152</td>\n",
       "    </tr>\n",
       "    <tr>\n",
       "      <th>2</th>\n",
       "      <td>-1.219302</td>\n",
       "      <td>-0.772934</td>\n",
       "    </tr>\n",
       "    <tr>\n",
       "      <th>3</th>\n",
       "      <td>-1.049085</td>\n",
       "      <td>-0.595841</td>\n",
       "    </tr>\n",
       "    <tr>\n",
       "      <th>4</th>\n",
       "      <td>-0.848015</td>\n",
       "      <td>-0.860675</td>\n",
       "    </tr>\n",
       "  </tbody>\n",
       "</table>\n",
       "</div>"
      ],
      "text/plain": [
       "   Ozone Mean (ppm)  Ozone Max (ppm)\n",
       "0         -0.329758        -0.468495\n",
       "1         -0.681090        -0.847152\n",
       "2         -1.219302        -0.772934\n",
       "3         -1.049085        -0.595841\n",
       "4         -0.848015        -0.860675"
      ]
     },
     "execution_count": 65,
     "metadata": {},
     "output_type": "execute_result"
    }
   ],
   "source": [
    "#scaled_features: Ozone Mean and Ozone Max\n",
    "scaled_features.shape\n",
    "scaled_features.head()"
   ]
  },
  {
   "cell_type": "code",
   "execution_count": 66,
   "metadata": {},
   "outputs": [],
   "source": [
    "X = Ozone_Dummy_df.date_local\n",
    "y = Ozone_Dummy_df['Ozone Mean (ppm)']"
   ]
  },
  {
   "cell_type": "code",
   "execution_count": 68,
   "metadata": {},
   "outputs": [],
   "source": [
    "from sklearn.model_selection import train_test_split\n",
    "X_train, X_test, y_train, y_test = train_test_split(X, y, test_size=0.3, random_state=42) "
   ]
  },
  {
   "cell_type": "code",
   "execution_count": 73,
   "metadata": {
    "scrolled": false
   },
   "outputs": [
    {
     "name": "stdout",
     "output_type": "stream",
     "text": [
      "2273   2019-03-25\n",
      "328    2019-11-25\n",
      "1392   2019-10-25\n",
      "2405   2019-08-04\n",
      "367    2019-01-03\n",
      "          ...    \n",
      "1130   2019-02-05\n",
      "1294   2019-07-19\n",
      "860    2019-05-11\n",
      "3507   2019-08-11\n",
      "3174   2019-09-12\n",
      "Name: date_local, Length: 2555, dtype: datetime64[ns]\n"
     ]
    }
   ],
   "source": [
    "print(X_train)"
   ]
  },
  {
   "cell_type": "code",
   "execution_count": 74,
   "metadata": {},
   "outputs": [
    {
     "name": "stdout",
     "output_type": "stream",
     "text": [
      "2273    0.029448\n",
      "328     0.021238\n",
      "1392    0.014111\n",
      "2405    0.023875\n",
      "367     0.015018\n",
      "          ...   \n",
      "1130    0.021028\n",
      "1294    0.024486\n",
      "860     0.019979\n",
      "3507    0.024903\n",
      "3174    0.026917\n",
      "Name: Ozone Mean (ppm), Length: 2555, dtype: float64\n"
     ]
    }
   ],
   "source": [
    "print(y_train)"
   ]
  },
  {
   "cell_type": "code",
   "execution_count": null,
   "metadata": {},
   "outputs": [],
   "source": [
    "#Potential models: KNN, SVM, LinReg (maybe not?)"
   ]
  }
 ],
 "metadata": {
  "kernelspec": {
   "display_name": "Python 3",
   "language": "python",
   "name": "python3"
  },
  "language_info": {
   "codemirror_mode": {
    "name": "ipython",
    "version": 3
   },
   "file_extension": ".py",
   "mimetype": "text/x-python",
   "name": "python",
   "nbconvert_exporter": "python",
   "pygments_lexer": "ipython3",
   "version": "3.7.6"
  }
 },
 "nbformat": 4,
 "nbformat_minor": 4
}
