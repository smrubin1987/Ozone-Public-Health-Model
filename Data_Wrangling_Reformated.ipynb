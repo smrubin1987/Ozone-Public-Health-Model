{
 "cells": [
  {
   "cell_type": "code",
   "execution_count": null,
   "metadata": {
    "collapsed": true,
    "pycharm": {
     "name": "#%%\n"
    }
   },
   "outputs": [],
   "source": [
    "#1.Imports and Modules\n",
    "import requests\n",
    "#store the data we get as a dataframe\n",
    "import pandas as pd\n",
    "\n",
    "\n",
    "def request_epa_city_date_data(email, token, param_code, start_date, end_date, state, county):\n",
    "    \"\"\"\n",
    "    :param email: user email info\n",
    "    :param token: the token assigned to the email\n",
    "    :param param_code: info being requested\n",
    "    :param start_date: start date you are requesting\n",
    "    :param end_date: end date you are requesting\n",
    "    :param state: us state code\n",
    "    :param county: county state code\n",
    "    :return: pandas dataframe of extracted data json object.\n",
    "    \"\"\"\n",
    "    request_url = \"https://aqs.epa.gov/data/api/sampleData/byCounty?\"+\\\n",
    "                  \"email=\" +  email + \\\n",
    "                  \"&key=\" + token + \"&param=\" + param_code +\\\n",
    "                  \"&bdate=\" + start_date + \\\n",
    "                  \"&edate=\" + end_date + \"&state=\" + state + \"&county=\" + county\n",
    "    \n",
    "    r_json = requests.get(request_url)\n",
    "\n",
    "    county_data = r_json.json()\n",
    "    county_data = {key:county_data[key] for key in county_data.keys() & {\"Data\"} }\n",
    "    df = pd.concat({k: pd.DataFrame(v) for k, v in county_data.items()})\n",
    "    return df\n"
   ]
  }
 ],
 "metadata": {
  "kernelspec": {
   "display_name": "Python 3",
   "language": "python",
   "name": "python3"
  },
  "language_info": {
   "codemirror_mode": {
    "name": "ipython",
    "version": 2
   },
   "file_extension": ".py",
   "mimetype": "text/x-python",
   "name": "python",
   "nbconvert_exporter": "python",
   "pygments_lexer": "ipython2",
   "version": "2.7.6"
  }
 },
 "nbformat": 4,
 "nbformat_minor": 0
}